{
 "cells": [
  {
   "attachments": {},
   "cell_type": "markdown",
   "id": "e7e9326b",
   "metadata": {},
   "source": [
    "# 야호!"
   ]
  },
  {
   "cell_type": "code",
   "execution_count": 1,
   "id": "a183f1e2",
   "metadata": {},
   "outputs": [],
   "source": [
    "from imblearn.over_sampling import KMeansSMOTE\n",
    "import os\n",
    "import pandas as pd\n",
    "from glob import glob\n",
    "from tqdm import tqdm\n",
    "from tqdm.contrib import tzip\n",
    "import numpy as np\n",
    "import matplotlib.pyplot as plt\n",
    "import seaborn as sns\n",
    "import pickle "
   ]
  },
  {
   "cell_type": "code",
   "execution_count": 2,
   "id": "e57ba809",
   "metadata": {},
   "outputs": [],
   "source": [
    "import os\n",
    "from pathlib import Path\n",
    "\n",
    "def data_path(address_file):\n",
    "    data_path = str(Path(os.getcwd()).parent) + '/1. scraping/data/' + address_file\n",
    "    return Path(data_path)"
   ]
  },
  {
   "cell_type": "code",
   "execution_count": 3,
   "id": "c98fc0de",
   "metadata": {
    "scrolled": true
   },
   "outputs": [],
   "source": [
    "x = pd.read_csv(data_path('dataset_financial.csv'), index_col = 0).dropna().iloc[:,1:]\n",
    "y = pd.read_csv(data_path('biz_status.csv'), index_col = 0).iloc[:,1:]"
   ]
  },
  {
   "cell_type": "code",
   "execution_count": 4,
   "id": "454ef197",
   "metadata": {},
   "outputs": [
    {
     "data": {
      "text/html": [
       "<div>\n",
       "<style scoped>\n",
       "    .dataframe tbody tr th:only-of-type {\n",
       "        vertical-align: middle;\n",
       "    }\n",
       "\n",
       "    .dataframe tbody tr th {\n",
       "        vertical-align: top;\n",
       "    }\n",
       "\n",
       "    .dataframe thead th {\n",
       "        text-align: right;\n",
       "    }\n",
       "</style>\n",
       "<table border=\"1\" class=\"dataframe\">\n",
       "  <thead>\n",
       "    <tr style=\"text-align: right;\">\n",
       "      <th></th>\n",
       "      <th>결산년도</th>\n",
       "      <th>총자산</th>\n",
       "      <th>자본금</th>\n",
       "      <th>자본총계</th>\n",
       "      <th>매출액</th>\n",
       "      <th>영업이익</th>\n",
       "      <th>당기순이익</th>\n",
       "      <th>사업자등록번호</th>\n",
       "      <th>폐업일자</th>\n",
       "      <th>1년뒤_폐업여부</th>\n",
       "      <th>2년뒤_폐업여부</th>\n",
       "      <th>3년뒤_폐업여부</th>\n",
       "      <th>4년뒤_폐업여부</th>\n",
       "      <th>5년뒤_폐업여부</th>\n",
       "    </tr>\n",
       "  </thead>\n",
       "  <tbody>\n",
       "    <tr>\n",
       "      <th>0</th>\n",
       "      <td>2019</td>\n",
       "      <td>11322266.0</td>\n",
       "      <td>1410020.0</td>\n",
       "      <td>10670783.0</td>\n",
       "      <td>2311466.0</td>\n",
       "      <td>-26805.0</td>\n",
       "      <td>278091.0</td>\n",
       "      <td>221-81-48293</td>\n",
       "      <td>NaN</td>\n",
       "      <td>False</td>\n",
       "      <td>False</td>\n",
       "      <td>False</td>\n",
       "      <td>False</td>\n",
       "      <td>False</td>\n",
       "    </tr>\n",
       "    <tr>\n",
       "      <th>1</th>\n",
       "      <td>2018</td>\n",
       "      <td>10791503.0</td>\n",
       "      <td>1410020.0</td>\n",
       "      <td>10392692.0</td>\n",
       "      <td>3042851.0</td>\n",
       "      <td>445686.0</td>\n",
       "      <td>400916.0</td>\n",
       "      <td>221-81-48293</td>\n",
       "      <td>NaN</td>\n",
       "      <td>False</td>\n",
       "      <td>False</td>\n",
       "      <td>False</td>\n",
       "      <td>False</td>\n",
       "      <td>False</td>\n",
       "    </tr>\n",
       "    <tr>\n",
       "      <th>2</th>\n",
       "      <td>2017</td>\n",
       "      <td>10434592.0</td>\n",
       "      <td>1410020.0</td>\n",
       "      <td>9991776.0</td>\n",
       "      <td>2888489.0</td>\n",
       "      <td>121397.0</td>\n",
       "      <td>-1226084.0</td>\n",
       "      <td>221-81-48293</td>\n",
       "      <td>NaN</td>\n",
       "      <td>False</td>\n",
       "      <td>False</td>\n",
       "      <td>False</td>\n",
       "      <td>False</td>\n",
       "      <td>False</td>\n",
       "    </tr>\n",
       "    <tr>\n",
       "      <th>3</th>\n",
       "      <td>2016</td>\n",
       "      <td>11630780.0</td>\n",
       "      <td>1410020.0</td>\n",
       "      <td>11217860.0</td>\n",
       "      <td>2246411.0</td>\n",
       "      <td>-115412.0</td>\n",
       "      <td>164513.0</td>\n",
       "      <td>221-81-48293</td>\n",
       "      <td>NaN</td>\n",
       "      <td>False</td>\n",
       "      <td>False</td>\n",
       "      <td>False</td>\n",
       "      <td>False</td>\n",
       "      <td>False</td>\n",
       "    </tr>\n",
       "    <tr>\n",
       "      <th>4</th>\n",
       "      <td>2019</td>\n",
       "      <td>10000.0</td>\n",
       "      <td>10000.0</td>\n",
       "      <td>10000.0</td>\n",
       "      <td>0.0</td>\n",
       "      <td>0.0</td>\n",
       "      <td>0.0</td>\n",
       "      <td>507-87-01423</td>\n",
       "      <td>NaN</td>\n",
       "      <td>False</td>\n",
       "      <td>False</td>\n",
       "      <td>False</td>\n",
       "      <td>False</td>\n",
       "      <td>False</td>\n",
       "    </tr>\n",
       "    <tr>\n",
       "      <th>...</th>\n",
       "      <td>...</td>\n",
       "      <td>...</td>\n",
       "      <td>...</td>\n",
       "      <td>...</td>\n",
       "      <td>...</td>\n",
       "      <td>...</td>\n",
       "      <td>...</td>\n",
       "      <td>...</td>\n",
       "      <td>...</td>\n",
       "      <td>...</td>\n",
       "      <td>...</td>\n",
       "      <td>...</td>\n",
       "      <td>...</td>\n",
       "      <td>...</td>\n",
       "    </tr>\n",
       "    <tr>\n",
       "      <th>297563</th>\n",
       "      <td>2016</td>\n",
       "      <td>36382026.0</td>\n",
       "      <td>2000000.0</td>\n",
       "      <td>23714777.0</td>\n",
       "      <td>21237685.0</td>\n",
       "      <td>2740242.0</td>\n",
       "      <td>2322011.0</td>\n",
       "      <td>301-81-27032</td>\n",
       "      <td>NaN</td>\n",
       "      <td>False</td>\n",
       "      <td>False</td>\n",
       "      <td>False</td>\n",
       "      <td>False</td>\n",
       "      <td>False</td>\n",
       "    </tr>\n",
       "    <tr>\n",
       "      <th>297564</th>\n",
       "      <td>2019</td>\n",
       "      <td>10142990.0</td>\n",
       "      <td>150000.0</td>\n",
       "      <td>5720398.0</td>\n",
       "      <td>83810901.0</td>\n",
       "      <td>-198279.0</td>\n",
       "      <td>-243281.0</td>\n",
       "      <td>315-81-32820</td>\n",
       "      <td>NaN</td>\n",
       "      <td>False</td>\n",
       "      <td>False</td>\n",
       "      <td>False</td>\n",
       "      <td>False</td>\n",
       "      <td>False</td>\n",
       "    </tr>\n",
       "    <tr>\n",
       "      <th>297565</th>\n",
       "      <td>2018</td>\n",
       "      <td>11527759.0</td>\n",
       "      <td>150000.0</td>\n",
       "      <td>7763679.0</td>\n",
       "      <td>71428798.0</td>\n",
       "      <td>594055.0</td>\n",
       "      <td>387409.0</td>\n",
       "      <td>315-81-32820</td>\n",
       "      <td>NaN</td>\n",
       "      <td>False</td>\n",
       "      <td>False</td>\n",
       "      <td>False</td>\n",
       "      <td>False</td>\n",
       "      <td>False</td>\n",
       "    </tr>\n",
       "    <tr>\n",
       "      <th>297566</th>\n",
       "      <td>2017</td>\n",
       "      <td>11928022.0</td>\n",
       "      <td>150000.0</td>\n",
       "      <td>7376269.0</td>\n",
       "      <td>62967410.0</td>\n",
       "      <td>428346.0</td>\n",
       "      <td>302429.0</td>\n",
       "      <td>315-81-32820</td>\n",
       "      <td>NaN</td>\n",
       "      <td>False</td>\n",
       "      <td>False</td>\n",
       "      <td>False</td>\n",
       "      <td>False</td>\n",
       "      <td>False</td>\n",
       "    </tr>\n",
       "    <tr>\n",
       "      <th>297567</th>\n",
       "      <td>2016</td>\n",
       "      <td>10758343.0</td>\n",
       "      <td>150000.0</td>\n",
       "      <td>7073839.0</td>\n",
       "      <td>59266267.0</td>\n",
       "      <td>104195.0</td>\n",
       "      <td>402218.0</td>\n",
       "      <td>315-81-32820</td>\n",
       "      <td>NaN</td>\n",
       "      <td>False</td>\n",
       "      <td>False</td>\n",
       "      <td>False</td>\n",
       "      <td>False</td>\n",
       "      <td>False</td>\n",
       "    </tr>\n",
       "  </tbody>\n",
       "</table>\n",
       "<p>297568 rows × 14 columns</p>\n",
       "</div>"
      ],
      "text/plain": [
       "        결산년도         총자산        자본금        자본총계         매출액       영업이익  \\\n",
       "0       2019  11322266.0  1410020.0  10670783.0   2311466.0   -26805.0   \n",
       "1       2018  10791503.0  1410020.0  10392692.0   3042851.0   445686.0   \n",
       "2       2017  10434592.0  1410020.0   9991776.0   2888489.0   121397.0   \n",
       "3       2016  11630780.0  1410020.0  11217860.0   2246411.0  -115412.0   \n",
       "4       2019     10000.0    10000.0     10000.0         0.0        0.0   \n",
       "...      ...         ...        ...         ...         ...        ...   \n",
       "297563  2016  36382026.0  2000000.0  23714777.0  21237685.0  2740242.0   \n",
       "297564  2019  10142990.0   150000.0   5720398.0  83810901.0  -198279.0   \n",
       "297565  2018  11527759.0   150000.0   7763679.0  71428798.0   594055.0   \n",
       "297566  2017  11928022.0   150000.0   7376269.0  62967410.0   428346.0   \n",
       "297567  2016  10758343.0   150000.0   7073839.0  59266267.0   104195.0   \n",
       "\n",
       "            당기순이익       사업자등록번호  폐업일자  1년뒤_폐업여부  2년뒤_폐업여부  3년뒤_폐업여부  4년뒤_폐업여부  \\\n",
       "0        278091.0  221-81-48293   NaN     False     False     False     False   \n",
       "1        400916.0  221-81-48293   NaN     False     False     False     False   \n",
       "2      -1226084.0  221-81-48293   NaN     False     False     False     False   \n",
       "3        164513.0  221-81-48293   NaN     False     False     False     False   \n",
       "4             0.0  507-87-01423   NaN     False     False     False     False   \n",
       "...           ...           ...   ...       ...       ...       ...       ...   \n",
       "297563  2322011.0  301-81-27032   NaN     False     False     False     False   \n",
       "297564  -243281.0  315-81-32820   NaN     False     False     False     False   \n",
       "297565   387409.0  315-81-32820   NaN     False     False     False     False   \n",
       "297566   302429.0  315-81-32820   NaN     False     False     False     False   \n",
       "297567   402218.0  315-81-32820   NaN     False     False     False     False   \n",
       "\n",
       "        5년뒤_폐업여부  \n",
       "0          False  \n",
       "1          False  \n",
       "2          False  \n",
       "3          False  \n",
       "4          False  \n",
       "...          ...  \n",
       "297563     False  \n",
       "297564     False  \n",
       "297565     False  \n",
       "297566     False  \n",
       "297567     False  \n",
       "\n",
       "[297568 rows x 14 columns]"
      ]
     },
     "execution_count": 4,
     "metadata": {},
     "output_type": "execute_result"
    }
   ],
   "source": [
    "x['결산년도'] = x['결산년도'].str[:4].astype('int')\n",
    "x = x[x['결산년도'] <= 2019]\n",
    "\n",
    "\n",
    "y['폐업일자'] = y['폐업일자'].str[:4].astype('float')\n",
    "y = y[['사업자등록번호', '폐업일자']]\n",
    "\n",
    "db = pd.merge(x, y)\n",
    "db['1년뒤_폐업여부'] = db['폐업일자']-1 <= db['결산년도']\n",
    "db['2년뒤_폐업여부'] = db['폐업일자']-2 <= db['결산년도']\n",
    "db['3년뒤_폐업여부'] = db['폐업일자']-3 <= db['결산년도']\n",
    "db['4년뒤_폐업여부'] = db['폐업일자']-4 <= db['결산년도']\n",
    "db['5년뒤_폐업여부'] = db['폐업일자']-5 <= db['결산년도']\n",
    "\n",
    "db"
   ]
  },
  {
   "cell_type": "code",
   "execution_count": 5,
   "id": "2aca126a",
   "metadata": {},
   "outputs": [
    {
     "data": {
      "text/plain": [
       "False    272166\n",
       "True      25402\n",
       "Name: 5년뒤_폐업여부, dtype: int64"
      ]
     },
     "execution_count": 5,
     "metadata": {},
     "output_type": "execute_result"
    }
   ],
   "source": [
    "db['5년뒤_폐업여부'].value_counts()"
   ]
  },
  {
   "cell_type": "code",
   "execution_count": 6,
   "id": "03dc7346",
   "metadata": {},
   "outputs": [],
   "source": [
    "X = db.iloc[:,:7]\n",
    "X_1 = X[X['결산년도'] <= 2018]\n",
    "X_2 = X[X['결산년도'] <= 2017]\n",
    "X_3 = X[X['결산년도'] <= 2016]\n",
    "X_4 = X[X['결산년도'] <= 2015]\n",
    "X_5 = X[X['결산년도'] <= 2014]\n",
    "\n",
    "y_1 = db.iloc[X_1.index,9]\n",
    "y_2 = db.iloc[X_2.index,10]\n",
    "y_3 = db.iloc[X_3.index,11]\n",
    "y_4 = db.iloc[X_4.index,12]\n",
    "y_5 = db.iloc[X_5.index,13]"
   ]
  },
  {
   "cell_type": "code",
   "execution_count": 7,
   "id": "7b081fe7",
   "metadata": {},
   "outputs": [],
   "source": [
    "# 모델 학습\n",
    "from lightgbm import LGBMClassifier\n",
    "from sklearn.metrics import f1_score, average_precision_score\n",
    "from sklearn.metrics import make_scorer, accuracy_score, recall_score, precision_score, roc_auc_score\n",
    "from sklearn.pipeline import make_pipeline\n",
    "from sklearn.pipeline import Pipeline\n",
    "from sklearn.model_selection import train_test_split\n",
    "from imblearn.under_sampling import RandomUnderSampler\n",
    "\n",
    "model = LGBMClassifier(n_estimators=1000)\n",
    "\n",
    "NM_model = RandomUnderSampler()\n",
    "\n",
    "X_1, y_1 = NM_model.fit_resample(X_1, y_1)\n",
    "X_2, y_2 = NM_model.fit_resample(X_2, y_2)\n",
    "X_3, y_3 = NM_model.fit_resample(X_3, y_3)\n",
    "X_4, y_4 = NM_model.fit_resample(X_4, y_4)\n",
    "X_5, y_5 = NM_model.fit_resample(X_5, y_5)"
   ]
  },
  {
   "cell_type": "code",
   "execution_count": 8,
   "id": "64e8dd1b",
   "metadata": {
    "scrolled": true
   },
   "outputs": [],
   "source": [
    "pipe = Pipeline([('model', model)])"
   ]
  },
  {
   "cell_type": "code",
   "execution_count": 9,
   "id": "8740e598",
   "metadata": {},
   "outputs": [],
   "source": [
    "def print_score(y_test, y_pred, y_pred_proba):\n",
    "    print('ACC:', accuracy_score(y_test, y_pred))\n",
    "    print('REC:', recall_score(y_test, y_pred))\n",
    "    print('PRE:', precision_score(y_test, y_pred))\n",
    "    print('F1:', f1_score(y_test, y_pred))\n",
    "    print('AP:', average_precision_score(y_test, y_pred_proba))\n",
    "    print('ROC_AUC:', roc_auc_score(y_test, y_pred_proba))\n",
    "    \n",
    "def make_score(model, X, y):\n",
    "    \n",
    "    X_train, X_test, y_train, y_test = train_test_split(X, y, test_size=0.33, random_state=42)\n",
    "    \n",
    "    model.fit(X_train, y_train);\n",
    "    y_pred = model.predict(X_test)\n",
    "    y_pred_proba = model.predict_proba(X_test)[:,1]\n",
    "    print_score(y_test, y_pred, y_pred_proba)\n",
    "    return model"
   ]
  },
  {
   "cell_type": "code",
   "execution_count": 10,
   "id": "38661a61",
   "metadata": {},
   "outputs": [
    {
     "name": "stdout",
     "output_type": "stream",
     "text": [
      "ACC: 0.6509519492293744\n",
      "REC: 0.6753731343283582\n",
      "PRE: 0.631762652705061\n",
      "F1: 0.6528403967538323\n",
      "AP: 0.6862701609402112\n",
      "ROC_AUC: 0.706813156440022\n"
     ]
    },
    {
     "data": {
      "text/html": [
       "<style>#sk-container-id-1 {color: black;background-color: white;}#sk-container-id-1 pre{padding: 0;}#sk-container-id-1 div.sk-toggleable {background-color: white;}#sk-container-id-1 label.sk-toggleable__label {cursor: pointer;display: block;width: 100%;margin-bottom: 0;padding: 0.3em;box-sizing: border-box;text-align: center;}#sk-container-id-1 label.sk-toggleable__label-arrow:before {content: \"▸\";float: left;margin-right: 0.25em;color: #696969;}#sk-container-id-1 label.sk-toggleable__label-arrow:hover:before {color: black;}#sk-container-id-1 div.sk-estimator:hover label.sk-toggleable__label-arrow:before {color: black;}#sk-container-id-1 div.sk-toggleable__content {max-height: 0;max-width: 0;overflow: hidden;text-align: left;background-color: #f0f8ff;}#sk-container-id-1 div.sk-toggleable__content pre {margin: 0.2em;color: black;border-radius: 0.25em;background-color: #f0f8ff;}#sk-container-id-1 input.sk-toggleable__control:checked~div.sk-toggleable__content {max-height: 200px;max-width: 100%;overflow: auto;}#sk-container-id-1 input.sk-toggleable__control:checked~label.sk-toggleable__label-arrow:before {content: \"▾\";}#sk-container-id-1 div.sk-estimator input.sk-toggleable__control:checked~label.sk-toggleable__label {background-color: #d4ebff;}#sk-container-id-1 div.sk-label input.sk-toggleable__control:checked~label.sk-toggleable__label {background-color: #d4ebff;}#sk-container-id-1 input.sk-hidden--visually {border: 0;clip: rect(1px 1px 1px 1px);clip: rect(1px, 1px, 1px, 1px);height: 1px;margin: -1px;overflow: hidden;padding: 0;position: absolute;width: 1px;}#sk-container-id-1 div.sk-estimator {font-family: monospace;background-color: #f0f8ff;border: 1px dotted black;border-radius: 0.25em;box-sizing: border-box;margin-bottom: 0.5em;}#sk-container-id-1 div.sk-estimator:hover {background-color: #d4ebff;}#sk-container-id-1 div.sk-parallel-item::after {content: \"\";width: 100%;border-bottom: 1px solid gray;flex-grow: 1;}#sk-container-id-1 div.sk-label:hover label.sk-toggleable__label {background-color: #d4ebff;}#sk-container-id-1 div.sk-serial::before {content: \"\";position: absolute;border-left: 1px solid gray;box-sizing: border-box;top: 0;bottom: 0;left: 50%;z-index: 0;}#sk-container-id-1 div.sk-serial {display: flex;flex-direction: column;align-items: center;background-color: white;padding-right: 0.2em;padding-left: 0.2em;position: relative;}#sk-container-id-1 div.sk-item {position: relative;z-index: 1;}#sk-container-id-1 div.sk-parallel {display: flex;align-items: stretch;justify-content: center;background-color: white;position: relative;}#sk-container-id-1 div.sk-item::before, #sk-container-id-1 div.sk-parallel-item::before {content: \"\";position: absolute;border-left: 1px solid gray;box-sizing: border-box;top: 0;bottom: 0;left: 50%;z-index: -1;}#sk-container-id-1 div.sk-parallel-item {display: flex;flex-direction: column;z-index: 1;position: relative;background-color: white;}#sk-container-id-1 div.sk-parallel-item:first-child::after {align-self: flex-end;width: 50%;}#sk-container-id-1 div.sk-parallel-item:last-child::after {align-self: flex-start;width: 50%;}#sk-container-id-1 div.sk-parallel-item:only-child::after {width: 0;}#sk-container-id-1 div.sk-dashed-wrapped {border: 1px dashed gray;margin: 0 0.4em 0.5em 0.4em;box-sizing: border-box;padding-bottom: 0.4em;background-color: white;}#sk-container-id-1 div.sk-label label {font-family: monospace;font-weight: bold;display: inline-block;line-height: 1.2em;}#sk-container-id-1 div.sk-label-container {text-align: center;}#sk-container-id-1 div.sk-container {/* jupyter's `normalize.less` sets `[hidden] { display: none; }` but bootstrap.min.css set `[hidden] { display: none !important; }` so we also need the `!important` here to be able to override the default hidden behavior on the sphinx rendered scikit-learn.org. See: https://github.com/scikit-learn/scikit-learn/issues/21755 */display: inline-block !important;position: relative;}#sk-container-id-1 div.sk-text-repr-fallback {display: none;}</style><div id=\"sk-container-id-1\" class=\"sk-top-container\"><div class=\"sk-text-repr-fallback\"><pre>Pipeline(steps=[(&#x27;model&#x27;, LGBMClassifier(n_estimators=1000))])</pre><b>In a Jupyter environment, please rerun this cell to show the HTML representation or trust the notebook. <br />On GitHub, the HTML representation is unable to render, please try loading this page with nbviewer.org.</b></div><div class=\"sk-container\" hidden><div class=\"sk-item sk-dashed-wrapped\"><div class=\"sk-label-container\"><div class=\"sk-label sk-toggleable\"><input class=\"sk-toggleable__control sk-hidden--visually\" id=\"sk-estimator-id-1\" type=\"checkbox\" ><label for=\"sk-estimator-id-1\" class=\"sk-toggleable__label sk-toggleable__label-arrow\">Pipeline</label><div class=\"sk-toggleable__content\"><pre>Pipeline(steps=[(&#x27;model&#x27;, LGBMClassifier(n_estimators=1000))])</pre></div></div></div><div class=\"sk-serial\"><div class=\"sk-item\"><div class=\"sk-estimator sk-toggleable\"><input class=\"sk-toggleable__control sk-hidden--visually\" id=\"sk-estimator-id-2\" type=\"checkbox\" ><label for=\"sk-estimator-id-2\" class=\"sk-toggleable__label sk-toggleable__label-arrow\">LGBMClassifier</label><div class=\"sk-toggleable__content\"><pre>LGBMClassifier(n_estimators=1000)</pre></div></div></div></div></div></div></div>"
      ],
      "text/plain": [
       "Pipeline(steps=[('model', LGBMClassifier(n_estimators=1000))])"
      ]
     },
     "execution_count": 10,
     "metadata": {},
     "output_type": "execute_result"
    }
   ],
   "source": [
    "make_score(pipe, X_1, y_1)"
   ]
  },
  {
   "cell_type": "code",
   "execution_count": 11,
   "id": "e6319278",
   "metadata": {},
   "outputs": [
    {
     "name": "stdout",
     "output_type": "stream",
     "text": [
      "ACC: 0.6483221476510067\n",
      "REC: 0.6696185286103542\n",
      "PRE: 0.6358344113842174\n",
      "F1: 0.6522893165228931\n",
      "AP: 0.6960243995944817\n",
      "ROC_AUC: 0.7051381860646166\n"
     ]
    },
    {
     "data": {
      "text/html": [
       "<style>#sk-container-id-2 {color: black;background-color: white;}#sk-container-id-2 pre{padding: 0;}#sk-container-id-2 div.sk-toggleable {background-color: white;}#sk-container-id-2 label.sk-toggleable__label {cursor: pointer;display: block;width: 100%;margin-bottom: 0;padding: 0.3em;box-sizing: border-box;text-align: center;}#sk-container-id-2 label.sk-toggleable__label-arrow:before {content: \"▸\";float: left;margin-right: 0.25em;color: #696969;}#sk-container-id-2 label.sk-toggleable__label-arrow:hover:before {color: black;}#sk-container-id-2 div.sk-estimator:hover label.sk-toggleable__label-arrow:before {color: black;}#sk-container-id-2 div.sk-toggleable__content {max-height: 0;max-width: 0;overflow: hidden;text-align: left;background-color: #f0f8ff;}#sk-container-id-2 div.sk-toggleable__content pre {margin: 0.2em;color: black;border-radius: 0.25em;background-color: #f0f8ff;}#sk-container-id-2 input.sk-toggleable__control:checked~div.sk-toggleable__content {max-height: 200px;max-width: 100%;overflow: auto;}#sk-container-id-2 input.sk-toggleable__control:checked~label.sk-toggleable__label-arrow:before {content: \"▾\";}#sk-container-id-2 div.sk-estimator input.sk-toggleable__control:checked~label.sk-toggleable__label {background-color: #d4ebff;}#sk-container-id-2 div.sk-label input.sk-toggleable__control:checked~label.sk-toggleable__label {background-color: #d4ebff;}#sk-container-id-2 input.sk-hidden--visually {border: 0;clip: rect(1px 1px 1px 1px);clip: rect(1px, 1px, 1px, 1px);height: 1px;margin: -1px;overflow: hidden;padding: 0;position: absolute;width: 1px;}#sk-container-id-2 div.sk-estimator {font-family: monospace;background-color: #f0f8ff;border: 1px dotted black;border-radius: 0.25em;box-sizing: border-box;margin-bottom: 0.5em;}#sk-container-id-2 div.sk-estimator:hover {background-color: #d4ebff;}#sk-container-id-2 div.sk-parallel-item::after {content: \"\";width: 100%;border-bottom: 1px solid gray;flex-grow: 1;}#sk-container-id-2 div.sk-label:hover label.sk-toggleable__label {background-color: #d4ebff;}#sk-container-id-2 div.sk-serial::before {content: \"\";position: absolute;border-left: 1px solid gray;box-sizing: border-box;top: 0;bottom: 0;left: 50%;z-index: 0;}#sk-container-id-2 div.sk-serial {display: flex;flex-direction: column;align-items: center;background-color: white;padding-right: 0.2em;padding-left: 0.2em;position: relative;}#sk-container-id-2 div.sk-item {position: relative;z-index: 1;}#sk-container-id-2 div.sk-parallel {display: flex;align-items: stretch;justify-content: center;background-color: white;position: relative;}#sk-container-id-2 div.sk-item::before, #sk-container-id-2 div.sk-parallel-item::before {content: \"\";position: absolute;border-left: 1px solid gray;box-sizing: border-box;top: 0;bottom: 0;left: 50%;z-index: -1;}#sk-container-id-2 div.sk-parallel-item {display: flex;flex-direction: column;z-index: 1;position: relative;background-color: white;}#sk-container-id-2 div.sk-parallel-item:first-child::after {align-self: flex-end;width: 50%;}#sk-container-id-2 div.sk-parallel-item:last-child::after {align-self: flex-start;width: 50%;}#sk-container-id-2 div.sk-parallel-item:only-child::after {width: 0;}#sk-container-id-2 div.sk-dashed-wrapped {border: 1px dashed gray;margin: 0 0.4em 0.5em 0.4em;box-sizing: border-box;padding-bottom: 0.4em;background-color: white;}#sk-container-id-2 div.sk-label label {font-family: monospace;font-weight: bold;display: inline-block;line-height: 1.2em;}#sk-container-id-2 div.sk-label-container {text-align: center;}#sk-container-id-2 div.sk-container {/* jupyter's `normalize.less` sets `[hidden] { display: none; }` but bootstrap.min.css set `[hidden] { display: none !important; }` so we also need the `!important` here to be able to override the default hidden behavior on the sphinx rendered scikit-learn.org. See: https://github.com/scikit-learn/scikit-learn/issues/21755 */display: inline-block !important;position: relative;}#sk-container-id-2 div.sk-text-repr-fallback {display: none;}</style><div id=\"sk-container-id-2\" class=\"sk-top-container\"><div class=\"sk-text-repr-fallback\"><pre>Pipeline(steps=[(&#x27;model&#x27;, LGBMClassifier(n_estimators=1000))])</pre><b>In a Jupyter environment, please rerun this cell to show the HTML representation or trust the notebook. <br />On GitHub, the HTML representation is unable to render, please try loading this page with nbviewer.org.</b></div><div class=\"sk-container\" hidden><div class=\"sk-item sk-dashed-wrapped\"><div class=\"sk-label-container\"><div class=\"sk-label sk-toggleable\"><input class=\"sk-toggleable__control sk-hidden--visually\" id=\"sk-estimator-id-3\" type=\"checkbox\" ><label for=\"sk-estimator-id-3\" class=\"sk-toggleable__label sk-toggleable__label-arrow\">Pipeline</label><div class=\"sk-toggleable__content\"><pre>Pipeline(steps=[(&#x27;model&#x27;, LGBMClassifier(n_estimators=1000))])</pre></div></div></div><div class=\"sk-serial\"><div class=\"sk-item\"><div class=\"sk-estimator sk-toggleable\"><input class=\"sk-toggleable__control sk-hidden--visually\" id=\"sk-estimator-id-4\" type=\"checkbox\" ><label for=\"sk-estimator-id-4\" class=\"sk-toggleable__label sk-toggleable__label-arrow\">LGBMClassifier</label><div class=\"sk-toggleable__content\"><pre>LGBMClassifier(n_estimators=1000)</pre></div></div></div></div></div></div></div>"
      ],
      "text/plain": [
       "Pipeline(steps=[('model', LGBMClassifier(n_estimators=1000))])"
      ]
     },
     "execution_count": 11,
     "metadata": {},
     "output_type": "execute_result"
    }
   ],
   "source": [
    "make_score(pipe, X_2, y_2)"
   ]
  },
  {
   "cell_type": "code",
   "execution_count": 12,
   "id": "ef91cc25",
   "metadata": {},
   "outputs": [
    {
     "name": "stdout",
     "output_type": "stream",
     "text": [
      "ACC: 0.6720921000396983\n",
      "REC: 0.6929444225463145\n",
      "PRE: 0.6681870011402509\n",
      "F1: 0.6803405572755419\n",
      "AP: 0.7185106866457854\n",
      "ROC_AUC: 0.7352217173832083\n"
     ]
    },
    {
     "data": {
      "text/html": [
       "<style>#sk-container-id-3 {color: black;background-color: white;}#sk-container-id-3 pre{padding: 0;}#sk-container-id-3 div.sk-toggleable {background-color: white;}#sk-container-id-3 label.sk-toggleable__label {cursor: pointer;display: block;width: 100%;margin-bottom: 0;padding: 0.3em;box-sizing: border-box;text-align: center;}#sk-container-id-3 label.sk-toggleable__label-arrow:before {content: \"▸\";float: left;margin-right: 0.25em;color: #696969;}#sk-container-id-3 label.sk-toggleable__label-arrow:hover:before {color: black;}#sk-container-id-3 div.sk-estimator:hover label.sk-toggleable__label-arrow:before {color: black;}#sk-container-id-3 div.sk-toggleable__content {max-height: 0;max-width: 0;overflow: hidden;text-align: left;background-color: #f0f8ff;}#sk-container-id-3 div.sk-toggleable__content pre {margin: 0.2em;color: black;border-radius: 0.25em;background-color: #f0f8ff;}#sk-container-id-3 input.sk-toggleable__control:checked~div.sk-toggleable__content {max-height: 200px;max-width: 100%;overflow: auto;}#sk-container-id-3 input.sk-toggleable__control:checked~label.sk-toggleable__label-arrow:before {content: \"▾\";}#sk-container-id-3 div.sk-estimator input.sk-toggleable__control:checked~label.sk-toggleable__label {background-color: #d4ebff;}#sk-container-id-3 div.sk-label input.sk-toggleable__control:checked~label.sk-toggleable__label {background-color: #d4ebff;}#sk-container-id-3 input.sk-hidden--visually {border: 0;clip: rect(1px 1px 1px 1px);clip: rect(1px, 1px, 1px, 1px);height: 1px;margin: -1px;overflow: hidden;padding: 0;position: absolute;width: 1px;}#sk-container-id-3 div.sk-estimator {font-family: monospace;background-color: #f0f8ff;border: 1px dotted black;border-radius: 0.25em;box-sizing: border-box;margin-bottom: 0.5em;}#sk-container-id-3 div.sk-estimator:hover {background-color: #d4ebff;}#sk-container-id-3 div.sk-parallel-item::after {content: \"\";width: 100%;border-bottom: 1px solid gray;flex-grow: 1;}#sk-container-id-3 div.sk-label:hover label.sk-toggleable__label {background-color: #d4ebff;}#sk-container-id-3 div.sk-serial::before {content: \"\";position: absolute;border-left: 1px solid gray;box-sizing: border-box;top: 0;bottom: 0;left: 50%;z-index: 0;}#sk-container-id-3 div.sk-serial {display: flex;flex-direction: column;align-items: center;background-color: white;padding-right: 0.2em;padding-left: 0.2em;position: relative;}#sk-container-id-3 div.sk-item {position: relative;z-index: 1;}#sk-container-id-3 div.sk-parallel {display: flex;align-items: stretch;justify-content: center;background-color: white;position: relative;}#sk-container-id-3 div.sk-item::before, #sk-container-id-3 div.sk-parallel-item::before {content: \"\";position: absolute;border-left: 1px solid gray;box-sizing: border-box;top: 0;bottom: 0;left: 50%;z-index: -1;}#sk-container-id-3 div.sk-parallel-item {display: flex;flex-direction: column;z-index: 1;position: relative;background-color: white;}#sk-container-id-3 div.sk-parallel-item:first-child::after {align-self: flex-end;width: 50%;}#sk-container-id-3 div.sk-parallel-item:last-child::after {align-self: flex-start;width: 50%;}#sk-container-id-3 div.sk-parallel-item:only-child::after {width: 0;}#sk-container-id-3 div.sk-dashed-wrapped {border: 1px dashed gray;margin: 0 0.4em 0.5em 0.4em;box-sizing: border-box;padding-bottom: 0.4em;background-color: white;}#sk-container-id-3 div.sk-label label {font-family: monospace;font-weight: bold;display: inline-block;line-height: 1.2em;}#sk-container-id-3 div.sk-label-container {text-align: center;}#sk-container-id-3 div.sk-container {/* jupyter's `normalize.less` sets `[hidden] { display: none; }` but bootstrap.min.css set `[hidden] { display: none !important; }` so we also need the `!important` here to be able to override the default hidden behavior on the sphinx rendered scikit-learn.org. See: https://github.com/scikit-learn/scikit-learn/issues/21755 */display: inline-block !important;position: relative;}#sk-container-id-3 div.sk-text-repr-fallback {display: none;}</style><div id=\"sk-container-id-3\" class=\"sk-top-container\"><div class=\"sk-text-repr-fallback\"><pre>Pipeline(steps=[(&#x27;model&#x27;, LGBMClassifier(n_estimators=1000))])</pre><b>In a Jupyter environment, please rerun this cell to show the HTML representation or trust the notebook. <br />On GitHub, the HTML representation is unable to render, please try loading this page with nbviewer.org.</b></div><div class=\"sk-container\" hidden><div class=\"sk-item sk-dashed-wrapped\"><div class=\"sk-label-container\"><div class=\"sk-label sk-toggleable\"><input class=\"sk-toggleable__control sk-hidden--visually\" id=\"sk-estimator-id-5\" type=\"checkbox\" ><label for=\"sk-estimator-id-5\" class=\"sk-toggleable__label sk-toggleable__label-arrow\">Pipeline</label><div class=\"sk-toggleable__content\"><pre>Pipeline(steps=[(&#x27;model&#x27;, LGBMClassifier(n_estimators=1000))])</pre></div></div></div><div class=\"sk-serial\"><div class=\"sk-item\"><div class=\"sk-estimator sk-toggleable\"><input class=\"sk-toggleable__control sk-hidden--visually\" id=\"sk-estimator-id-6\" type=\"checkbox\" ><label for=\"sk-estimator-id-6\" class=\"sk-toggleable__label sk-toggleable__label-arrow\">LGBMClassifier</label><div class=\"sk-toggleable__content\"><pre>LGBMClassifier(n_estimators=1000)</pre></div></div></div></div></div></div></div>"
      ],
      "text/plain": [
       "Pipeline(steps=[('model', LGBMClassifier(n_estimators=1000))])"
      ]
     },
     "execution_count": 12,
     "metadata": {},
     "output_type": "execute_result"
    }
   ],
   "source": [
    "make_score(pipe, X_3, y_3)"
   ]
  },
  {
   "cell_type": "code",
   "execution_count": 13,
   "id": "8a5d2c6d",
   "metadata": {},
   "outputs": [
    {
     "name": "stdout",
     "output_type": "stream",
     "text": [
      "ACC: 0.6573542736333434\n",
      "REC: 0.698330804248862\n",
      "PRE: 0.6434563758389261\n",
      "F1: 0.6697715034201718\n",
      "AP: 0.6910740579186172\n",
      "ROC_AUC: 0.7199499382666217\n"
     ]
    },
    {
     "data": {
      "text/html": [
       "<style>#sk-container-id-4 {color: black;background-color: white;}#sk-container-id-4 pre{padding: 0;}#sk-container-id-4 div.sk-toggleable {background-color: white;}#sk-container-id-4 label.sk-toggleable__label {cursor: pointer;display: block;width: 100%;margin-bottom: 0;padding: 0.3em;box-sizing: border-box;text-align: center;}#sk-container-id-4 label.sk-toggleable__label-arrow:before {content: \"▸\";float: left;margin-right: 0.25em;color: #696969;}#sk-container-id-4 label.sk-toggleable__label-arrow:hover:before {color: black;}#sk-container-id-4 div.sk-estimator:hover label.sk-toggleable__label-arrow:before {color: black;}#sk-container-id-4 div.sk-toggleable__content {max-height: 0;max-width: 0;overflow: hidden;text-align: left;background-color: #f0f8ff;}#sk-container-id-4 div.sk-toggleable__content pre {margin: 0.2em;color: black;border-radius: 0.25em;background-color: #f0f8ff;}#sk-container-id-4 input.sk-toggleable__control:checked~div.sk-toggleable__content {max-height: 200px;max-width: 100%;overflow: auto;}#sk-container-id-4 input.sk-toggleable__control:checked~label.sk-toggleable__label-arrow:before {content: \"▾\";}#sk-container-id-4 div.sk-estimator input.sk-toggleable__control:checked~label.sk-toggleable__label {background-color: #d4ebff;}#sk-container-id-4 div.sk-label input.sk-toggleable__control:checked~label.sk-toggleable__label {background-color: #d4ebff;}#sk-container-id-4 input.sk-hidden--visually {border: 0;clip: rect(1px 1px 1px 1px);clip: rect(1px, 1px, 1px, 1px);height: 1px;margin: -1px;overflow: hidden;padding: 0;position: absolute;width: 1px;}#sk-container-id-4 div.sk-estimator {font-family: monospace;background-color: #f0f8ff;border: 1px dotted black;border-radius: 0.25em;box-sizing: border-box;margin-bottom: 0.5em;}#sk-container-id-4 div.sk-estimator:hover {background-color: #d4ebff;}#sk-container-id-4 div.sk-parallel-item::after {content: \"\";width: 100%;border-bottom: 1px solid gray;flex-grow: 1;}#sk-container-id-4 div.sk-label:hover label.sk-toggleable__label {background-color: #d4ebff;}#sk-container-id-4 div.sk-serial::before {content: \"\";position: absolute;border-left: 1px solid gray;box-sizing: border-box;top: 0;bottom: 0;left: 50%;z-index: 0;}#sk-container-id-4 div.sk-serial {display: flex;flex-direction: column;align-items: center;background-color: white;padding-right: 0.2em;padding-left: 0.2em;position: relative;}#sk-container-id-4 div.sk-item {position: relative;z-index: 1;}#sk-container-id-4 div.sk-parallel {display: flex;align-items: stretch;justify-content: center;background-color: white;position: relative;}#sk-container-id-4 div.sk-item::before, #sk-container-id-4 div.sk-parallel-item::before {content: \"\";position: absolute;border-left: 1px solid gray;box-sizing: border-box;top: 0;bottom: 0;left: 50%;z-index: -1;}#sk-container-id-4 div.sk-parallel-item {display: flex;flex-direction: column;z-index: 1;position: relative;background-color: white;}#sk-container-id-4 div.sk-parallel-item:first-child::after {align-self: flex-end;width: 50%;}#sk-container-id-4 div.sk-parallel-item:last-child::after {align-self: flex-start;width: 50%;}#sk-container-id-4 div.sk-parallel-item:only-child::after {width: 0;}#sk-container-id-4 div.sk-dashed-wrapped {border: 1px dashed gray;margin: 0 0.4em 0.5em 0.4em;box-sizing: border-box;padding-bottom: 0.4em;background-color: white;}#sk-container-id-4 div.sk-label label {font-family: monospace;font-weight: bold;display: inline-block;line-height: 1.2em;}#sk-container-id-4 div.sk-label-container {text-align: center;}#sk-container-id-4 div.sk-container {/* jupyter's `normalize.less` sets `[hidden] { display: none; }` but bootstrap.min.css set `[hidden] { display: none !important; }` so we also need the `!important` here to be able to override the default hidden behavior on the sphinx rendered scikit-learn.org. See: https://github.com/scikit-learn/scikit-learn/issues/21755 */display: inline-block !important;position: relative;}#sk-container-id-4 div.sk-text-repr-fallback {display: none;}</style><div id=\"sk-container-id-4\" class=\"sk-top-container\"><div class=\"sk-text-repr-fallback\"><pre>Pipeline(steps=[(&#x27;model&#x27;, LGBMClassifier(n_estimators=1000))])</pre><b>In a Jupyter environment, please rerun this cell to show the HTML representation or trust the notebook. <br />On GitHub, the HTML representation is unable to render, please try loading this page with nbviewer.org.</b></div><div class=\"sk-container\" hidden><div class=\"sk-item sk-dashed-wrapped\"><div class=\"sk-label-container\"><div class=\"sk-label sk-toggleable\"><input class=\"sk-toggleable__control sk-hidden--visually\" id=\"sk-estimator-id-7\" type=\"checkbox\" ><label for=\"sk-estimator-id-7\" class=\"sk-toggleable__label sk-toggleable__label-arrow\">Pipeline</label><div class=\"sk-toggleable__content\"><pre>Pipeline(steps=[(&#x27;model&#x27;, LGBMClassifier(n_estimators=1000))])</pre></div></div></div><div class=\"sk-serial\"><div class=\"sk-item\"><div class=\"sk-estimator sk-toggleable\"><input class=\"sk-toggleable__control sk-hidden--visually\" id=\"sk-estimator-id-8\" type=\"checkbox\" ><label for=\"sk-estimator-id-8\" class=\"sk-toggleable__label sk-toggleable__label-arrow\">LGBMClassifier</label><div class=\"sk-toggleable__content\"><pre>LGBMClassifier(n_estimators=1000)</pre></div></div></div></div></div></div></div>"
      ],
      "text/plain": [
       "Pipeline(steps=[('model', LGBMClassifier(n_estimators=1000))])"
      ]
     },
     "execution_count": 13,
     "metadata": {},
     "output_type": "execute_result"
    }
   ],
   "source": [
    "make_score(pipe, X_4, y_4)"
   ]
  },
  {
   "cell_type": "code",
   "execution_count": 14,
   "id": "46fa22a5",
   "metadata": {},
   "outputs": [
    {
     "name": "stdout",
     "output_type": "stream",
     "text": [
      "ACC: 0.6619385342789598\n",
      "REC: 0.709601259181532\n",
      "PRE: 0.6483700862895494\n",
      "F1: 0.6776052104208417\n",
      "AP: 0.7102336185772935\n",
      "ROC_AUC: 0.7292038679592616\n"
     ]
    },
    {
     "data": {
      "text/html": [
       "<style>#sk-container-id-5 {color: black;background-color: white;}#sk-container-id-5 pre{padding: 0;}#sk-container-id-5 div.sk-toggleable {background-color: white;}#sk-container-id-5 label.sk-toggleable__label {cursor: pointer;display: block;width: 100%;margin-bottom: 0;padding: 0.3em;box-sizing: border-box;text-align: center;}#sk-container-id-5 label.sk-toggleable__label-arrow:before {content: \"▸\";float: left;margin-right: 0.25em;color: #696969;}#sk-container-id-5 label.sk-toggleable__label-arrow:hover:before {color: black;}#sk-container-id-5 div.sk-estimator:hover label.sk-toggleable__label-arrow:before {color: black;}#sk-container-id-5 div.sk-toggleable__content {max-height: 0;max-width: 0;overflow: hidden;text-align: left;background-color: #f0f8ff;}#sk-container-id-5 div.sk-toggleable__content pre {margin: 0.2em;color: black;border-radius: 0.25em;background-color: #f0f8ff;}#sk-container-id-5 input.sk-toggleable__control:checked~div.sk-toggleable__content {max-height: 200px;max-width: 100%;overflow: auto;}#sk-container-id-5 input.sk-toggleable__control:checked~label.sk-toggleable__label-arrow:before {content: \"▾\";}#sk-container-id-5 div.sk-estimator input.sk-toggleable__control:checked~label.sk-toggleable__label {background-color: #d4ebff;}#sk-container-id-5 div.sk-label input.sk-toggleable__control:checked~label.sk-toggleable__label {background-color: #d4ebff;}#sk-container-id-5 input.sk-hidden--visually {border: 0;clip: rect(1px 1px 1px 1px);clip: rect(1px, 1px, 1px, 1px);height: 1px;margin: -1px;overflow: hidden;padding: 0;position: absolute;width: 1px;}#sk-container-id-5 div.sk-estimator {font-family: monospace;background-color: #f0f8ff;border: 1px dotted black;border-radius: 0.25em;box-sizing: border-box;margin-bottom: 0.5em;}#sk-container-id-5 div.sk-estimator:hover {background-color: #d4ebff;}#sk-container-id-5 div.sk-parallel-item::after {content: \"\";width: 100%;border-bottom: 1px solid gray;flex-grow: 1;}#sk-container-id-5 div.sk-label:hover label.sk-toggleable__label {background-color: #d4ebff;}#sk-container-id-5 div.sk-serial::before {content: \"\";position: absolute;border-left: 1px solid gray;box-sizing: border-box;top: 0;bottom: 0;left: 50%;z-index: 0;}#sk-container-id-5 div.sk-serial {display: flex;flex-direction: column;align-items: center;background-color: white;padding-right: 0.2em;padding-left: 0.2em;position: relative;}#sk-container-id-5 div.sk-item {position: relative;z-index: 1;}#sk-container-id-5 div.sk-parallel {display: flex;align-items: stretch;justify-content: center;background-color: white;position: relative;}#sk-container-id-5 div.sk-item::before, #sk-container-id-5 div.sk-parallel-item::before {content: \"\";position: absolute;border-left: 1px solid gray;box-sizing: border-box;top: 0;bottom: 0;left: 50%;z-index: -1;}#sk-container-id-5 div.sk-parallel-item {display: flex;flex-direction: column;z-index: 1;position: relative;background-color: white;}#sk-container-id-5 div.sk-parallel-item:first-child::after {align-self: flex-end;width: 50%;}#sk-container-id-5 div.sk-parallel-item:last-child::after {align-self: flex-start;width: 50%;}#sk-container-id-5 div.sk-parallel-item:only-child::after {width: 0;}#sk-container-id-5 div.sk-dashed-wrapped {border: 1px dashed gray;margin: 0 0.4em 0.5em 0.4em;box-sizing: border-box;padding-bottom: 0.4em;background-color: white;}#sk-container-id-5 div.sk-label label {font-family: monospace;font-weight: bold;display: inline-block;line-height: 1.2em;}#sk-container-id-5 div.sk-label-container {text-align: center;}#sk-container-id-5 div.sk-container {/* jupyter's `normalize.less` sets `[hidden] { display: none; }` but bootstrap.min.css set `[hidden] { display: none !important; }` so we also need the `!important` here to be able to override the default hidden behavior on the sphinx rendered scikit-learn.org. See: https://github.com/scikit-learn/scikit-learn/issues/21755 */display: inline-block !important;position: relative;}#sk-container-id-5 div.sk-text-repr-fallback {display: none;}</style><div id=\"sk-container-id-5\" class=\"sk-top-container\"><div class=\"sk-text-repr-fallback\"><pre>Pipeline(steps=[(&#x27;model&#x27;, LGBMClassifier(n_estimators=1000))])</pre><b>In a Jupyter environment, please rerun this cell to show the HTML representation or trust the notebook. <br />On GitHub, the HTML representation is unable to render, please try loading this page with nbviewer.org.</b></div><div class=\"sk-container\" hidden><div class=\"sk-item sk-dashed-wrapped\"><div class=\"sk-label-container\"><div class=\"sk-label sk-toggleable\"><input class=\"sk-toggleable__control sk-hidden--visually\" id=\"sk-estimator-id-9\" type=\"checkbox\" ><label for=\"sk-estimator-id-9\" class=\"sk-toggleable__label sk-toggleable__label-arrow\">Pipeline</label><div class=\"sk-toggleable__content\"><pre>Pipeline(steps=[(&#x27;model&#x27;, LGBMClassifier(n_estimators=1000))])</pre></div></div></div><div class=\"sk-serial\"><div class=\"sk-item\"><div class=\"sk-estimator sk-toggleable\"><input class=\"sk-toggleable__control sk-hidden--visually\" id=\"sk-estimator-id-10\" type=\"checkbox\" ><label for=\"sk-estimator-id-10\" class=\"sk-toggleable__label sk-toggleable__label-arrow\">LGBMClassifier</label><div class=\"sk-toggleable__content\"><pre>LGBMClassifier(n_estimators=1000)</pre></div></div></div></div></div></div></div>"
      ],
      "text/plain": [
       "Pipeline(steps=[('model', LGBMClassifier(n_estimators=1000))])"
      ]
     },
     "execution_count": 14,
     "metadata": {},
     "output_type": "execute_result"
    }
   ],
   "source": [
    "make_score(pipe, X_5, y_5)"
   ]
  },
  {
   "cell_type": "code",
   "execution_count": 15,
   "id": "32891eab",
   "metadata": {},
   "outputs": [],
   "source": [
    "import pickle\n",
    "\n",
    "pipe.fit(X_1, y_1)\n",
    "with open('model_1.pkl','wb') as pickle_file: pickle.dump(pipe, pickle_file)\n",
    "\n",
    "pipe.fit(X_2, y_2)\n",
    "with open('model_2.pkl','wb') as pickle_file: pickle.dump(pipe, pickle_file)\n",
    "\n",
    "pipe.fit(X_3, y_3)\n",
    "with open('model_3.pkl','wb') as pickle_file: pickle.dump(pipe, pickle_file)\n",
    "\n",
    "pipe.fit(X_4, y_4)\n",
    "with open('model_4.pkl','wb') as pickle_file: pickle.dump(pipe, pickle_file)\n",
    "\n",
    "pipe.fit(X_5, y_5)\n",
    "with open('model_5.pkl','wb') as pickle_file: pickle.dump(pipe, pickle_file)"
   ]
  },
  {
   "cell_type": "code",
   "execution_count": 16,
   "id": "8637546a",
   "metadata": {},
   "outputs": [],
   "source": [
    "with open('model_1.pkl','rb') as pickle_file: model_1 = pickle.load(pickle_file)\n",
    "with open('model_2.pkl','rb') as pickle_file: model_2 = pickle.load(pickle_file)\n",
    "with open('model_3.pkl','rb') as pickle_file: model_3 = pickle.load(pickle_file)\n",
    "with open('model_4.pkl','rb') as pickle_file: model_4 = pickle.load(pickle_file)\n",
    "with open('model_5.pkl','rb') as pickle_file: model_5 = pickle.load(pickle_file)"
   ]
  },
  {
   "cell_type": "code",
   "execution_count": 17,
   "id": "87f564c1",
   "metadata": {},
   "outputs": [
    {
     "data": {
      "text/html": [
       "<div>\n",
       "<style scoped>\n",
       "    .dataframe tbody tr th:only-of-type {\n",
       "        vertical-align: middle;\n",
       "    }\n",
       "\n",
       "    .dataframe tbody tr th {\n",
       "        vertical-align: top;\n",
       "    }\n",
       "\n",
       "    .dataframe thead th {\n",
       "        text-align: right;\n",
       "    }\n",
       "</style>\n",
       "<table border=\"1\" class=\"dataframe\">\n",
       "  <thead>\n",
       "    <tr style=\"text-align: right;\">\n",
       "      <th></th>\n",
       "      <th>결산년도</th>\n",
       "      <th>총자산</th>\n",
       "      <th>자본금</th>\n",
       "      <th>자본총계</th>\n",
       "      <th>매출액</th>\n",
       "      <th>영업이익</th>\n",
       "      <th>당기순이익</th>\n",
       "    </tr>\n",
       "  </thead>\n",
       "  <tbody>\n",
       "    <tr>\n",
       "      <th>0</th>\n",
       "      <td>2019</td>\n",
       "      <td>11322266.0</td>\n",
       "      <td>1410020.0</td>\n",
       "      <td>10670783.0</td>\n",
       "      <td>2311466.0</td>\n",
       "      <td>-26805.0</td>\n",
       "      <td>278091.0</td>\n",
       "    </tr>\n",
       "    <tr>\n",
       "      <th>1</th>\n",
       "      <td>2018</td>\n",
       "      <td>10791503.0</td>\n",
       "      <td>1410020.0</td>\n",
       "      <td>10392692.0</td>\n",
       "      <td>3042851.0</td>\n",
       "      <td>445686.0</td>\n",
       "      <td>400916.0</td>\n",
       "    </tr>\n",
       "    <tr>\n",
       "      <th>2</th>\n",
       "      <td>2017</td>\n",
       "      <td>10434592.0</td>\n",
       "      <td>1410020.0</td>\n",
       "      <td>9991776.0</td>\n",
       "      <td>2888489.0</td>\n",
       "      <td>121397.0</td>\n",
       "      <td>-1226084.0</td>\n",
       "    </tr>\n",
       "    <tr>\n",
       "      <th>3</th>\n",
       "      <td>2016</td>\n",
       "      <td>11630780.0</td>\n",
       "      <td>1410020.0</td>\n",
       "      <td>11217860.0</td>\n",
       "      <td>2246411.0</td>\n",
       "      <td>-115412.0</td>\n",
       "      <td>164513.0</td>\n",
       "    </tr>\n",
       "    <tr>\n",
       "      <th>4</th>\n",
       "      <td>2019</td>\n",
       "      <td>10000.0</td>\n",
       "      <td>10000.0</td>\n",
       "      <td>10000.0</td>\n",
       "      <td>0.0</td>\n",
       "      <td>0.0</td>\n",
       "      <td>0.0</td>\n",
       "    </tr>\n",
       "    <tr>\n",
       "      <th>...</th>\n",
       "      <td>...</td>\n",
       "      <td>...</td>\n",
       "      <td>...</td>\n",
       "      <td>...</td>\n",
       "      <td>...</td>\n",
       "      <td>...</td>\n",
       "      <td>...</td>\n",
       "    </tr>\n",
       "    <tr>\n",
       "      <th>297563</th>\n",
       "      <td>2016</td>\n",
       "      <td>36382026.0</td>\n",
       "      <td>2000000.0</td>\n",
       "      <td>23714777.0</td>\n",
       "      <td>21237685.0</td>\n",
       "      <td>2740242.0</td>\n",
       "      <td>2322011.0</td>\n",
       "    </tr>\n",
       "    <tr>\n",
       "      <th>297564</th>\n",
       "      <td>2019</td>\n",
       "      <td>10142990.0</td>\n",
       "      <td>150000.0</td>\n",
       "      <td>5720398.0</td>\n",
       "      <td>83810901.0</td>\n",
       "      <td>-198279.0</td>\n",
       "      <td>-243281.0</td>\n",
       "    </tr>\n",
       "    <tr>\n",
       "      <th>297565</th>\n",
       "      <td>2018</td>\n",
       "      <td>11527759.0</td>\n",
       "      <td>150000.0</td>\n",
       "      <td>7763679.0</td>\n",
       "      <td>71428798.0</td>\n",
       "      <td>594055.0</td>\n",
       "      <td>387409.0</td>\n",
       "    </tr>\n",
       "    <tr>\n",
       "      <th>297566</th>\n",
       "      <td>2017</td>\n",
       "      <td>11928022.0</td>\n",
       "      <td>150000.0</td>\n",
       "      <td>7376269.0</td>\n",
       "      <td>62967410.0</td>\n",
       "      <td>428346.0</td>\n",
       "      <td>302429.0</td>\n",
       "    </tr>\n",
       "    <tr>\n",
       "      <th>297567</th>\n",
       "      <td>2016</td>\n",
       "      <td>10758343.0</td>\n",
       "      <td>150000.0</td>\n",
       "      <td>7073839.0</td>\n",
       "      <td>59266267.0</td>\n",
       "      <td>104195.0</td>\n",
       "      <td>402218.0</td>\n",
       "    </tr>\n",
       "  </tbody>\n",
       "</table>\n",
       "<p>297568 rows × 7 columns</p>\n",
       "</div>"
      ],
      "text/plain": [
       "        결산년도         총자산        자본금        자본총계         매출액       영업이익  \\\n",
       "0       2019  11322266.0  1410020.0  10670783.0   2311466.0   -26805.0   \n",
       "1       2018  10791503.0  1410020.0  10392692.0   3042851.0   445686.0   \n",
       "2       2017  10434592.0  1410020.0   9991776.0   2888489.0   121397.0   \n",
       "3       2016  11630780.0  1410020.0  11217860.0   2246411.0  -115412.0   \n",
       "4       2019     10000.0    10000.0     10000.0         0.0        0.0   \n",
       "...      ...         ...        ...         ...         ...        ...   \n",
       "297563  2016  36382026.0  2000000.0  23714777.0  21237685.0  2740242.0   \n",
       "297564  2019  10142990.0   150000.0   5720398.0  83810901.0  -198279.0   \n",
       "297565  2018  11527759.0   150000.0   7763679.0  71428798.0   594055.0   \n",
       "297566  2017  11928022.0   150000.0   7376269.0  62967410.0   428346.0   \n",
       "297567  2016  10758343.0   150000.0   7073839.0  59266267.0   104195.0   \n",
       "\n",
       "            당기순이익  \n",
       "0        278091.0  \n",
       "1        400916.0  \n",
       "2      -1226084.0  \n",
       "3        164513.0  \n",
       "4             0.0  \n",
       "...           ...  \n",
       "297563  2322011.0  \n",
       "297564  -243281.0  \n",
       "297565   387409.0  \n",
       "297566   302429.0  \n",
       "297567   402218.0  \n",
       "\n",
       "[297568 rows x 7 columns]"
      ]
     },
     "execution_count": 17,
     "metadata": {},
     "output_type": "execute_result"
    }
   ],
   "source": [
    "X"
   ]
  },
  {
   "cell_type": "code",
   "execution_count": 18,
   "id": "aa66f96b",
   "metadata": {},
   "outputs": [],
   "source": [
    "def print_proba(X_data):\n",
    "      X_test = X_data.values.reshape(1,-1)\n",
    "      y_pred_1 = model_1.predict_proba(X_test)[0][1]\n",
    "      y_pred_2 = model_2.predict_proba(X_test)[0][1]\n",
    "      y_pred_3 = model_3.predict_proba(X_test)[0][1]\n",
    "      y_pred_4 = model_4.predict_proba(X_test)[0][1]\n",
    "      y_pred_5 = model_5.predict_proba(X_test)[0][1]\n",
    "      \n",
    "      print(f'해당 기업의 예상 폐업률은 \\n1년 내 {np.round(y_pred_1*100, 1)}%, \\n2년 내 {np.round(y_pred_2*100, 1)}%, \\n3년 내 {np.round(y_pred_3*100, 1)}%, \\n4년 내 {np.round(y_pred_4*100, 1)}%, \\n5년 내 {np.round(y_pred_5*100,1)}% 입니다.')\n",
    "      if y_pred_1 > 0.5:            \n",
    "            print(f'1년 내 폐업이 예상되오니 1년 미만 단기계약을 포함한 모든 계약에 신중하시기 바랍니다.')\n",
    "      elif y_pred_2 > 0.5:\n",
    "            print(f'2년 내 폐업이 예상되오니 1년 미만 단기계약을 제외한 1년 이상 장기계약에 신중하시기 바랍니다.')\n",
    "      elif y_pred_3 > 0.5:\n",
    "            print(f'3년 내 폐업이 예상되오니 2년 이상 장기계약에 신중하시기 바랍니다.')\n",
    "      elif y_pred_4 > 0.5:\n",
    "            print(f'4년 내 폐업이 예상되오니 3년 이상 장기계약에 신중하시기 바랍니다.')\n",
    "      elif y_pred_5 > 0.5:\n",
    "            print(f'5년 내 폐업이 예상되오니 4년 이상 장기계약에 신중하시기 바랍니다.')\n",
    "      else :\n",
    "            print(f'5년 내 폐업 가능성이 낮습니다. 안심하고 계약하셔도 좋습니다.')"
   ]
  },
  {
   "cell_type": "code",
   "execution_count": 19,
   "id": "59362dc6",
   "metadata": {},
   "outputs": [
    {
     "name": "stdout",
     "output_type": "stream",
     "text": [
      "해당 기업의 예상 폐업률은 \n",
      "1년 내 2.0%, \n",
      "2년 내 8.9%, \n",
      "3년 내 3.0%, \n",
      "4년 내 21.4%, \n",
      "5년 내 10.4% 입니다.\n",
      "5년 내 폐업 가능성이 낮습니다. 안심하고 계약하셔도 좋습니다.\n"
     ]
    }
   ],
   "source": [
    "for i in [X.iloc[15015]]:\n",
    "    print_proba(i)"
   ]
  }
 ],
 "metadata": {
  "kernelspec": {
   "display_name": "base",
   "language": "python",
   "name": "python3"
  },
  "language_info": {
   "codemirror_mode": {
    "name": "ipython",
    "version": 3
   },
   "file_extension": ".py",
   "mimetype": "text/x-python",
   "name": "python",
   "nbconvert_exporter": "python",
   "pygments_lexer": "ipython3",
   "version": "3.9.12"
  },
  "vscode": {
   "interpreter": {
    "hash": "6cf190d5018ff26dccd531b7019f3e1ef502a535b6f32c1d237cd8ee648a4803"
   }
  }
 },
 "nbformat": 4,
 "nbformat_minor": 5
}
