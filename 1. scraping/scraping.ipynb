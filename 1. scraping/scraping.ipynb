{
  "cells": [
    {
      "cell_type": "markdown",
      "metadata": {
        "id": "UffAXB1I24gI"
      },
      "source": [
        "# 1. 모듈, 패키지 불러오기"
      ]
    },
    {
      "cell_type": "code",
      "execution_count": null,
      "metadata": {
        "id": "p2twnwhjYG2d"
      },
      "outputs": [],
      "source": [
        "import csv\n",
        "import os\n",
        "from pymongo import MongoClient\n",
        "import pandas as pd\n",
        "from selenium import webdriver\n",
        "from selenium.webdriver.common.keys import Keys\n",
        "from bs4 import BeautifulSoup\n",
        "from selenium.common.exceptions import NoSuchElementException\n",
        "from selenium.webdriver.support.ui import WebDriverWait\n",
        "from selenium.webdriver.common.by import By\n",
        "from selenium.webdriver.support import expected_conditions as EC\n",
        "from selenium.webdriver.chrome.options import Options\n",
        "from pathlib import Path\n",
        "\n",
        "import time\n",
        "import re\n",
        "import datetime\n",
        "from selenium.webdriver.support.select import Select\n",
        "\n",
        "from tqdm import tqdm"
      ]
    },
    {
      "cell_type": "markdown",
      "metadata": {
        "id": "-oaf3rUm24gM"
      },
      "source": [
        "# 2. 스크레이핑 대상 불러오기\n",
        "\n",
        "- Section2 Project에서 수집하였던, 통신판매업 사업자등록번호를 불러옵니다.\n",
        "- MongoDB 연결 함수를 작성합니다\n",
        "- 팝업삭제 함수를 작성합니다"
      ]
    },
    {
      "cell_type": "code",
      "execution_count": null,
      "metadata": {
        "id": "VxdR0x1Q24gM"
      },
      "outputs": [],
      "source": [
        "# 사업자 등록번호 불러오기\n",
        "target_biz_code = pd.read_csv(\"data/Section2_bizcode.csv\")['사업자등록번호'].str.replace('-','')"
      ]
    },
    {
      "cell_type": "code",
      "execution_count": null,
      "metadata": {
        "id": "w0y9ZPtn24gN"
      },
      "outputs": [],
      "source": [
        "# DB 연결 \n",
        "HOST = host\n",
        "USER = user\n",
        "PASSWORD = pwd\n",
        "DATABASE_NAME = 'SMINFO'\n",
        "\n",
        "def collection(name):\n",
        "    COLLECTION_NAME = name\n",
        "    MONGO_URI = f\"mongodb+srv://{USER}:{PASSWORD}@{HOST}/{DATABASE_NAME}?retryWrites=true&w=majority\"\n",
        "    client = MongoClient({MONGO_URI})\n",
        "    database = client[DATABASE_NAME]\n",
        "    collection = database[COLLECTION_NAME]\n",
        "        \n",
        "    return collection"
      ]
    },
    {
      "cell_type": "code",
      "execution_count": null,
      "metadata": {
        "id": "DXp7gUUMYG2e"
      },
      "outputs": [],
      "source": [
        "# 팝업삭제\n",
        "def del_popup(driver):\n",
        "    main = driver.window_handles\n",
        "    for handle in main: \n",
        "        if handle != main[0]: \n",
        "            driver.switch_to.window(handle) \n",
        "            driver.close()\n",
        "            \n",
        "    driver.switch_to.window(driver.window_handles[0])"
      ]
    },
    {
      "cell_type": "markdown",
      "metadata": {
        "id": "lPEi5E0t24gN"
      },
      "source": [
        "# 3. 스크레이핑-1\n",
        "## 중소기업 재무제표 불러오기"
      ]
    },
    {
      "cell_type": "code",
      "execution_count": null,
      "metadata": {
        "id": "zOsycsCiYG2f"
      },
      "outputs": [],
      "source": [
        "log_id = id\n",
        "log_pw = pw\n",
        "\n",
        "def sminfo_crawling(log_id, log_pw):\n",
        "\n",
        "    print(\"start crawling..\")\n",
        "\n",
        "    #접속\n",
        "    chrome_options = Options() #브라우저 꺼짐 방지\n",
        "    chrome_options.add_experimental_option(\"detach\", True)\n",
        "    chrome_options.add_experimental_option(\"excludeSwitches\", [\"enable-logging\"]) \n",
        "    \n",
        "    driver = webdriver.Chrome('chromedriver', options=chrome_options)\n",
        "    driver.get('https://sminfo.mss.go.kr/cm/sv/CSV001R0.do')\n",
        "    driver.implicitly_wait(10)\n",
        "    del_popup(driver)\n",
        "\n",
        "    login_id = driver.find_element(By.ID, 'login_id')\n",
        "    login_id.clear()\n",
        "    login_id.send_keys(log_id)\n",
        "\n",
        "    login_pw = driver.find_element(By.ID, 'login_password')\n",
        "    login_pw.clear()\n",
        "    login_pw.send_keys(log_pw)\n",
        "    login_bn = driver.find_element(By.CLASS_NAME, \"login_btn\").click()\n",
        "\n",
        "    del_popup(driver)\n",
        "    coll_bs = collection(\"balance_sheet\")\n",
        "    \n",
        "    for search_code in tqdm(target_biz_code):\n",
        "        try : searching(driver, search_code, coll_bs)\n",
        "        except : continue\n",
        "    \n",
        "\n",
        "def searching(driver, search_code, coll_bs):\n",
        "    \n",
        "    driver.get('https://sminfo.mss.go.kr/gc/sf/GSF002R0.print')\n",
        "    \n",
        "    select = Select(driver.find_element(By.ID, \"cmQueryOptionCombo\"))\n",
        "    select.select_by_visible_text(\"사업자번호\")\n",
        "    search_id = driver.find_element(By.ID, 'searchTxt')\n",
        "    search_id.clear()\n",
        "    search_id.send_keys(search_code)\n",
        "    \n",
        "    search_bn = driver.find_element(By.CLASS_NAME, value=\"btn_blue\").click()\n",
        "    \n",
        "    try :\n",
        "        if driver.find_element(By.CSS_SELECTOR, '#contents_sub > div:nth-child(3) > form:nth-child(5) > div > div.clearfix.mt20 > div.sm_text.fl > span').text == '0':\n",
        "            return \n",
        "        else : \n",
        "            driver.find_element(By.XPATH, value='/html/body/div[1]/div[2]/div[6]/div/div[2]/div[3]/form[4]/div/div[7]/table/tbody/tr[1]/td[1]/a').click() \n",
        "            \n",
        "    except : return\n",
        "    \n",
        "    wait = WebDriverWait(driver, 10)\n",
        "    element = wait.until(EC.element_to_be_clickable((By.ID, 'btn_hbar')))\n",
        "    table = pd.read_html(driver.page_source)[4]\n",
        "    table['사업자등록번호'] = search_code\n",
        "    coll_bs.insert_many(table.to_dict(\"records\"))"
      ]
    },
    {
      "cell_type": "code",
      "execution_count": null,
      "metadata": {
        "scrolled": true,
        "id": "XNlrhIWE24gP",
        "outputId": "f4f53818-cb7c-4124-b5eb-e4062fc15b4e"
      },
      "outputs": [
        {
          "ename": "NameError",
          "evalue": "name 'sminfo_crawling' is not defined",
          "output_type": "error",
          "traceback": [
            "\u001b[1;31m---------------------------------------------------------------------------\u001b[0m",
            "\u001b[1;31mNameError\u001b[0m                                 Traceback (most recent call last)",
            "Input \u001b[1;32mIn [20]\u001b[0m, in \u001b[0;36m<cell line: 2>\u001b[1;34m()\u001b[0m\n\u001b[0;32m      1\u001b[0m \u001b[38;5;66;03m# 스크레이핑 함수 실행\u001b[39;00m\n\u001b[1;32m----> 2\u001b[0m \u001b[43msminfo_crawling\u001b[49m(log_id, log_pw)\n",
            "\u001b[1;31mNameError\u001b[0m: name 'sminfo_crawling' is not defined"
          ]
        }
      ],
      "source": [
        "# 스크레이핑 함수 실행\n",
        "sminfo_crawling(log_id, log_pw)"
      ]
    },
    {
      "cell_type": "code",
      "execution_count": null,
      "metadata": {
        "id": "RaEdbiD924gP"
      },
      "outputs": [],
      "source": [
        "# MongoDB에 저장된 데이터를 드라이브에도 저장\n",
        "pd.DataFrame(list(collection(\"balance_sheet\").find({}))).to_csv(\"data/dataset_finacial.csv\")"
      ]
    },
    {
      "cell_type": "markdown",
      "metadata": {
        "id": "efNCb_Oi24gQ"
      },
      "source": [
        "# 4. 스크레이핑-2\n",
        "## 국세청 등록정보를 바탕으로 기업상태확인(폐업유무)"
      ]
    },
    {
      "cell_type": "code",
      "execution_count": null,
      "metadata": {
        "id": "v-4DzoTf24gQ"
      },
      "outputs": [],
      "source": [
        "# 재무제표를 불러올 수 있는 기업을 대상으로 사업자등록번호 추출\n",
        "dataset_financial = pd.read_csv('data/dataset_finacial.csv')\n",
        "df = dataset_financial['사업자등록번호'].drop_duplicates()\n",
        "df"
      ]
    },
    {
      "cell_type": "code",
      "execution_count": null,
      "metadata": {
        "id": "AlBw1Vt424gQ"
      },
      "outputs": [],
      "source": [
        "def crawler(crawl_df, present_dataset):\n",
        "    url =  'https://teht.hometax.go.kr/websquare/websquare.html?w2xPath=/ui/ab/a/a/UTEABAAA13.xml'\n",
        "    \n",
        "    driver = webdriver.Chrome('chromedriver')\n",
        "    driver.implicitly_wait(5)\n",
        "    driver.get(url)\n",
        "\n",
        "    try :bsno_ = present_dataset['사업자등록번호'].tolist()\n",
        "    except : bsno_ = []\n",
        "    coll_biz_status = collection(\"biz_status\")\n",
        "    \n",
        "    for bizno in tqdm(crawl_df.tolist()):\n",
        "\n",
        "        if bizno in bsno_:\n",
        "            continue\n",
        "\n",
        "        else:\n",
        "            bsno = driver.find_element(By.XPATH, '//*[@id=\"bsno\"]')\n",
        "            bsno.clear()\n",
        "            bsno.send_keys(bizno)\n",
        "            bsno.send_keys(Keys.RETURN)\n",
        "            time.sleep(0.2)\n",
        "\n",
        "            try : \n",
        "                coll_biz_status.insert_many(pd.read_html(driver.page_source)[0].to_dict(\"records\"))\n",
        "            except: continue\n",
        "                \n",
        "#데이터셋 불러오기\n",
        "present_dataset = pd.DataFrame(list(collection(\"biz_status\").find({})))\n",
        "crawler(df, present_dataset)"
      ]
    },
    {
      "cell_type": "code",
      "execution_count": null,
      "metadata": {
        "id": "pt0d7DGy24gR",
        "outputId": "cfa65114-e9f7-4935-ddf9-53f43b64fdf6"
      },
      "outputs": [
        {
          "data": {
            "text/html": [
              "<div>\n",
              "<style scoped>\n",
              "    .dataframe tbody tr th:only-of-type {\n",
              "        vertical-align: middle;\n",
              "    }\n",
              "\n",
              "    .dataframe tbody tr th {\n",
              "        vertical-align: top;\n",
              "    }\n",
              "\n",
              "    .dataframe thead th {\n",
              "        text-align: right;\n",
              "    }\n",
              "</style>\n",
              "<table border=\"1\" class=\"dataframe\">\n",
              "  <thead>\n",
              "    <tr style=\"text-align: right;\">\n",
              "      <th></th>\n",
              "      <th>_id</th>\n",
              "      <th>사업자등록번호</th>\n",
              "      <th>사업자등록상태</th>\n",
              "      <th>조회기준일자</th>\n",
              "    </tr>\n",
              "  </thead>\n",
              "  <tbody>\n",
              "    <tr>\n",
              "      <th>0</th>\n",
              "      <td>63b1ba406aedbd1be90b15a8</td>\n",
              "      <td>101-81-00452</td>\n",
              "      <td>부가가치세 일반과세자 입니다.</td>\n",
              "      <td>2022-12-04</td>\n",
              "    </tr>\n",
              "    <tr>\n",
              "      <th>1</th>\n",
              "      <td>63b1ba406aedbd1be90b15a9</td>\n",
              "      <td>101-81-24696</td>\n",
              "      <td>부가가치세 일반과세자 입니다.</td>\n",
              "      <td>2022-12-04</td>\n",
              "    </tr>\n",
              "    <tr>\n",
              "      <th>2</th>\n",
              "      <td>63b1ba406aedbd1be90b15aa</td>\n",
              "      <td>101-81-62477</td>\n",
              "      <td>부가가치세 일반과세자 입니다.</td>\n",
              "      <td>2022-12-04</td>\n",
              "    </tr>\n",
              "    <tr>\n",
              "      <th>3</th>\n",
              "      <td>63b1ba406aedbd1be90b15ab</td>\n",
              "      <td>105-81-68075</td>\n",
              "      <td>부가가치세 일반과세자 입니다.</td>\n",
              "      <td>2022-12-04</td>\n",
              "    </tr>\n",
              "    <tr>\n",
              "      <th>4</th>\n",
              "      <td>63b1ba406aedbd1be90b15ac</td>\n",
              "      <td>128-86-79624</td>\n",
              "      <td>부가가치세 일반과세자 입니다.</td>\n",
              "      <td>2022-12-04</td>\n",
              "    </tr>\n",
              "    <tr>\n",
              "      <th>...</th>\n",
              "      <td>...</td>\n",
              "      <td>...</td>\n",
              "      <td>...</td>\n",
              "      <td>...</td>\n",
              "    </tr>\n",
              "    <tr>\n",
              "      <th>83304</th>\n",
              "      <td>63b1ba456aedbd1be90c5b10</td>\n",
              "      <td>767-81-01284</td>\n",
              "      <td>부가가치세 일반과세자 입니다.</td>\n",
              "      <td>2022-12-07</td>\n",
              "    </tr>\n",
              "    <tr>\n",
              "      <th>83305</th>\n",
              "      <td>63b1ba456aedbd1be90c5b11</td>\n",
              "      <td>873-86-01911</td>\n",
              "      <td>부가가치세 일반과세자 입니다.</td>\n",
              "      <td>2022-12-07</td>\n",
              "    </tr>\n",
              "    <tr>\n",
              "      <th>83306</th>\n",
              "      <td>63b1ba456aedbd1be90c5b12</td>\n",
              "      <td>108-81-83610</td>\n",
              "      <td>부가가치세 일반과세자 입니다.</td>\n",
              "      <td>2022-12-07</td>\n",
              "    </tr>\n",
              "    <tr>\n",
              "      <th>83307</th>\n",
              "      <td>63b1ba456aedbd1be90c5b13</td>\n",
              "      <td>120-81-01336</td>\n",
              "      <td>부가가치세 일반과세자 입니다.</td>\n",
              "      <td>2022-12-07</td>\n",
              "    </tr>\n",
              "    <tr>\n",
              "      <th>83308</th>\n",
              "      <td>63b1ba456aedbd1be90c5b14</td>\n",
              "      <td>220-87-98263</td>\n",
              "      <td>부가가치세 일반과세자 입니다.</td>\n",
              "      <td>2022-12-07</td>\n",
              "    </tr>\n",
              "  </tbody>\n",
              "</table>\n",
              "<p>83309 rows × 4 columns</p>\n",
              "</div>"
            ],
            "text/plain": [
              "                            _id       사업자등록번호           사업자등록상태      조회기준일자\n",
              "0      63b1ba406aedbd1be90b15a8  101-81-00452  부가가치세 일반과세자 입니다.  2022-12-04\n",
              "1      63b1ba406aedbd1be90b15a9  101-81-24696  부가가치세 일반과세자 입니다.  2022-12-04\n",
              "2      63b1ba406aedbd1be90b15aa  101-81-62477  부가가치세 일반과세자 입니다.  2022-12-04\n",
              "3      63b1ba406aedbd1be90b15ab  105-81-68075  부가가치세 일반과세자 입니다.  2022-12-04\n",
              "4      63b1ba406aedbd1be90b15ac  128-86-79624  부가가치세 일반과세자 입니다.  2022-12-04\n",
              "...                         ...           ...               ...         ...\n",
              "83304  63b1ba456aedbd1be90c5b10  767-81-01284  부가가치세 일반과세자 입니다.  2022-12-07\n",
              "83305  63b1ba456aedbd1be90c5b11  873-86-01911  부가가치세 일반과세자 입니다.  2022-12-07\n",
              "83306  63b1ba456aedbd1be90c5b12  108-81-83610  부가가치세 일반과세자 입니다.  2022-12-07\n",
              "83307  63b1ba456aedbd1be90c5b13  120-81-01336  부가가치세 일반과세자 입니다.  2022-12-07\n",
              "83308  63b1ba456aedbd1be90c5b14  220-87-98263  부가가치세 일반과세자 입니다.  2022-12-07\n",
              "\n",
              "[83309 rows x 4 columns]"
            ]
          },
          "execution_count": 21,
          "metadata": {},
          "output_type": "execute_result"
        }
      ],
      "source": [
        "# MongoDB 저장 상태 확인\n",
        "bsno_dataset = pd.DataFrame(list(collection(\"biz_status\").find({})))\n",
        "bsno_dataset"
      ]
    },
    {
      "cell_type": "code",
      "execution_count": null,
      "metadata": {
        "id": "XcRPVB5a24gR"
      },
      "outputs": [],
      "source": [
        "# 전처리 적용하여 로컬 드라이브에 저장\n",
        "bsno_dataset['폐업일자'] = bsno_dataset['사업자등록상태'].str.split('폐업일자:').str[1].str.extract(r'(\\d+-\\d+-\\d+)')\n",
        "bsno_dataset.to_csv(\"data/biz_status.csv\")"
      ]
    }
  ],
  "metadata": {
    "accelerator": "TPU",
    "colab": {
      "name": "sminfo crawlerV3-1.ipynb",
      "provenance": []
    },
    "kernelspec": {
      "display_name": "base",
      "language": "python",
      "name": "python3"
    },
    "language_info": {
      "codemirror_mode": {
        "name": "ipython",
        "version": 3
      },
      "file_extension": ".py",
      "mimetype": "text/x-python",
      "name": "python",
      "nbconvert_exporter": "python",
      "pygments_lexer": "ipython3",
      "version": "3.9.12 (main, Apr  4 2022, 05:22:27) [MSC v.1916 64 bit (AMD64)]"
    },
    "toc": {
      "base_numbering": 1,
      "nav_menu": {},
      "number_sections": true,
      "sideBar": true,
      "skip_h1_title": false,
      "title_cell": "Table of Contents",
      "title_sidebar": "Contents",
      "toc_cell": false,
      "toc_position": {},
      "toc_section_display": true,
      "toc_window_display": false
    },
    "vscode": {
      "interpreter": {
        "hash": "6cf190d5018ff26dccd531b7019f3e1ef502a535b6f32c1d237cd8ee648a4803"
      }
    }
  },
  "nbformat": 4,
  "nbformat_minor": 0
}